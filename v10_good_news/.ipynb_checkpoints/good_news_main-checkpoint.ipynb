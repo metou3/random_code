{
 "cells": [
  {
   "cell_type": "code",
   "execution_count": 7,
   "metadata": {},
   "outputs": [
    {
     "name": "stdout",
     "output_type": "stream",
     "text": [
      "Overwriting virus_tracker.py\n"
     ]
    }
   ],
   "source": [
    "%%writefile virus_tracker.py\n",
    "from flask import Flask, request, redirect, url_for, send_from_directory, send_file\n",
    "from flask import render_template, flash, session, redirect, jsonify\n",
    "import re\n",
    "import os\n",
    "from werkzeug import secure_filename\n",
    "from flask import jsonify\n",
    "import pandas as pd\n",
    "import string\n",
    "import random\n",
    "import pickle\n",
    "import time\n",
    "import requests\n",
    "my_l_tag=\"es,pl,sa,ns,el,da,ms,sw,sv,qu,mk,ko,lt,lv,nl,pt,is,tr,ja,pa,fa,tn,sl,bg,az,gl,he,bs,et,id,ur,hr,ky,mr,fr,ka,tl,ca,vi,nb,ps,sk,cy,fo,kk,en,it,ru,cs,se,ro,te,dv,zu,fi,eo,gu,hy,eu,sr,sy,zh,ar,mi,tt,uk,uz,nn,af,mt,th,ts,xh,mn,hi,sq,de,ta,hu,be,kn\".split(\",\")\n",
    "from datetime import datetime as d\n",
    "app = Flask(__name__)\n",
    "#import logging\n",
    "#log = logging.getLogger('werkzeug')\n",
    "#log.setLevel(logging.ERROR)\n",
    "app.config.from_object(__name__)\n",
    "app.config['SECRET_KEY'] = '7d441f27d441f27567d441f2b6176a'\n",
    "@app.route('/sum_confirm',endpoint=\"sum_confirm\")\n",
    "def return_file_07():\n",
    "    try:\n",
    "        return send_file('sum_confirm.csv', attachment_filename='sum_confirm')\n",
    "    except Exception as e:\n",
    "        return str(e)\n",
    "@app.route('/china',endpoint=\"china\")\n",
    "def return_file_04():\n",
    "    try:\n",
    "        return send_file('china.csv', attachment_filename='china')\n",
    "    except Exception as e:\n",
    "        return str(e)\n",
    "@app.route('/others',endpoint=\"others\")\n",
    "def return_file_05():\n",
    "    try:\n",
    "        return send_file('others.csv', attachment_filename='others')\n",
    "    except Exception as e:\n",
    "        return str(e)\n",
    "@app.route('/recovers',endpoint=\"recovers\")\n",
    "def return_file_06():\n",
    "    try:\n",
    "        return send_file('recovers.csv', attachment_filename='recovers')\n",
    "    except Exception as e:\n",
    "        return str(e)\n",
    "@app.route('/raw_death',endpoint=\"raw_death\")\n",
    "def return_file_02():\n",
    "    try:\n",
    "        return send_file('raw_death.csv', attachment_filename='raw_death')\n",
    "    except Exception as e:\n",
    "        return str(e)\n",
    "@app.route('/raw_recover',endpoint=\"raw_recover\")\n",
    "def return_file_03():\n",
    "    try:\n",
    "        return send_file('raw_recover.csv', attachment_filename='raw_recover')\n",
    "    except Exception as e:\n",
    "        return str(e)\n",
    "@app.route('/raw_confirm/<string:l_tag>',endpoint=\"raw_confirm\")\n",
    "def return_file_01(l_tag):\n",
    "    if l_tag not in my_l_tag:\n",
    "        try:\n",
    "            return send_file('raw_confirm.csv', attachment_filename='raw_confirm')\n",
    "        except Exception as e:\n",
    "            return str(e)\n",
    "    else:\n",
    "        try:\n",
    "            return send_file(os.getcwd()+\"/raw_confirm/\"+'raw_confirm_'+l_tag+\".csv\", attachment_filename='raw_confirm')\n",
    "        except Exception as e:\n",
    "            return str(e)\n",
    "@app.route('/dl0/<string:l_tag>',endpoint=\"dl0\")\n",
    "def return_file_00(l_tag):\n",
    "    if l_tag not in my_l_tag:\n",
    "        try:\n",
    "            return send_file('dl0', attachment_filename='dl0')\n",
    "        except Exception as e:\n",
    "            return str(e)\n",
    "    else:\n",
    "        try:\n",
    "            return send_file(os.getcwd()+\"/dl0_folder/\"+'dl0_'+l_tag+\".csv\", attachment_filename='dl0')\n",
    "        except Exception as e:\n",
    "            return str(e)\n",
    "\n",
    "if __name__ == '__main__':\n",
    "    app.run(debug=True,threaded=True,port=5005,host='0.0.0.0')"
   ]
  },
  {
   "cell_type": "code",
   "execution_count": 2,
   "metadata": {},
   "outputs": [
    {
     "name": "stdout",
     "output_type": "stream",
     "text": [
      "/home/contact_sunnysunny/.local/lib/python3.6/site-packages/pandas/compat/__init__.py:85: UserWarning: Could not import the lzma module. Your installed Python is incomplete. Attempting to use lzma compression will result in a RuntimeError.\n",
      "  warnings.warn(msg)\n",
      " * Serving Flask app \"virus_tracker\" (lazy loading)\n",
      " * Environment: production\n",
      "\u001b[31m   WARNING: This is a development server. Do not use it in a production deployment.\u001b[0m\n",
      "\u001b[2m   Use a production WSGI server instead.\u001b[0m\n",
      " * Debug mode: on\n",
      "Traceback (most recent call last):\n",
      "  File \"virus_tracker.py\", line 70, in <module>\n",
      "    app.run(debug=True,threaded=True,port=5005,host='0.0.0.0')\n",
      "  File \"/home/contact_sunnysunny/.local/lib/python3.6/site-packages/flask/app.py\", line 990, in run\n",
      "    run_simple(host, port, self, **options)\n",
      "  File \"/home/contact_sunnysunny/.local/lib/python3.6/site-packages/werkzeug/serving.py\", line 988, in run_simple\n",
      "    s.bind(server_address)\n",
      "OSError: [Errno 98] Address already in use\n"
     ]
    }
   ],
   "source": [
    "!python3 virus_tracker.py"
   ]
  },
  {
   "cell_type": "code",
   "execution_count": 1,
   "metadata": {},
   "outputs": [
    {
     "name": "stdout",
     "output_type": "stream",
     "text": [
      "confirm.csv  dl0\t  Untitled.ipynb    virus_traker_main.ipynb\r\n",
      "death.csv    recover.csv  virus_tracker.py\r\n"
     ]
    }
   ],
   "source": [
    "!ls"
   ]
  },
  {
   "cell_type": "code",
   "execution_count": null,
   "metadata": {},
   "outputs": [],
   "source": [
    "!ls"
   ]
  },
  {
   "cell_type": "code",
   "execution_count": null,
   "metadata": {},
   "outputs": [],
   "source": []
  }
 ],
 "metadata": {
  "kernelspec": {
   "display_name": "Python 3",
   "language": "python",
   "name": "python3"
  },
  "language_info": {
   "codemirror_mode": {
    "name": "ipython",
    "version": 3
   },
   "file_extension": ".py",
   "mimetype": "text/x-python",
   "name": "python",
   "nbconvert_exporter": "python",
   "pygments_lexer": "ipython3",
   "version": "3.6.10"
  }
 },
 "nbformat": 4,
 "nbformat_minor": 4
}

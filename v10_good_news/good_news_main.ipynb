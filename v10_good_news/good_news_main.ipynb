{
 "cells": [
  {
   "cell_type": "code",
   "execution_count": 16,
   "metadata": {},
   "outputs": [
    {
     "name": "stdout",
     "output_type": "stream",
     "text": [
      "Overwriting goodnews.py\n"
     ]
    }
   ],
   "source": [
    "%%writefile goodnews.py\n",
    "from flask import Flask, request, redirect, url_for, send_from_directory, send_file\n",
    "from flask import render_template, flash, session, redirect, jsonify\n",
    "import re\n",
    "import os\n",
    "from werkzeug import secure_filename\n",
    "from flask import jsonify\n",
    "import pandas as pd\n",
    "import string\n",
    "import random\n",
    "import pickle\n",
    "import time\n",
    "import requests\n",
    "#my_l_tag=\"es,pl,sa,ns,el,da,ms,sw,sv,qu,mk,ko,lt,lv,nl,pt,is,tr,ja,pa,fa,tn,sl,bg,az,gl,he,bs,et,id,ur,hr,ky,mr,fr,ka,tl,ca,vi,nb,ps,sk,cy,fo,kk,en,it,ru,cs,se,ro,te,dv,zu,fi,eo,gu,hy,eu,sr,sy,zh,ar,mi,tt,uk,uz,nn,af,mt,th,ts,xh,mn,hi,sq,de,ta,hu,be,kn\".split(\",\")\n",
    "my_l_tag=\"en,vi,fr,de,it\".split(\",\")\n",
    "\n",
    "from datetime import datetime as d\n",
    "app = Flask(__name__)\n",
    "#import logging\n",
    "#log = logging.getLogger('werkzeug')\n",
    "#log.setLevel(logging.ERROR)\n",
    "app.config.from_object(__name__)\n",
    "app.config['SECRET_KEY'] = '7d441f27d441f27567d441f2b6176a'\n",
    "@app.route('/upload', methods=['GET', 'POST'],endpoint='upload')\n",
    "def upload_file():\n",
    "    if request.method == 'POST':\n",
    "        file = request.files['file']\n",
    "        if file:\n",
    "            print('**found file', file.filename)\n",
    "            filename = secure_filename(file.filename)\n",
    "            file.save(os.path.join(os.getcwd()+\"/multi_news/\", filename))\n",
    "            return jsonify({\"status\":\"upload_done\"})\n",
    "@app.route('/newsfeed',endpoint=\"newsfeed\")\n",
    "def return_file_01():\n",
    "    try:\n",
    "        return send_file('df_goodnews.csv', attachment_filename='df_goodnews')\n",
    "    except Exception as e:\n",
    "        return str(e)\n",
    "@app.route('/multi_news/<string:l_tag>',endpoint=\"dl0\")\n",
    "def return_file_00(l_tag):\n",
    "    if l_tag not in my_l_tag:\n",
    "        try:\n",
    "            return send_file(os.getcwd()+\"/multi_news/\"+'df_goodnews_'+'en'+\".csv\", attachment_filename='df_goodnews')\n",
    "        except Exception as e:\n",
    "            return str(e)\n",
    "    else:\n",
    "        try:\n",
    "            return send_file(os.getcwd()+\"/multi_news/\"+'df_goodnews_'+l_tag+\".csv\", attachment_filename='df_goodnews')\n",
    "        except Exception as e:\n",
    "            return str(e)\n",
    "\n",
    "if __name__ == '__main__':\n",
    "    app.run(debug=True,threaded=True,port=5006,host='0.0.0.0')"
   ]
  },
  {
   "cell_type": "code",
   "execution_count": 1,
   "metadata": {},
   "outputs": [
    {
     "name": "stdout",
     "output_type": "stream",
     "text": [
      "/home/contact_sunnysunny/.local/lib/python3.6/site-packages/pandas/compat/__init__.py:85: UserWarning: Could not import the lzma module. Your installed Python is incomplete. Attempting to use lzma compression will result in a RuntimeError.\n",
      "  warnings.warn(msg)\n",
      " * Serving Flask app \"goodnews\" (lazy loading)\n",
      " * Environment: production\n",
      "\u001b[31m   WARNING: This is a development server. Do not use it in a production deployment.\u001b[0m\n",
      "\u001b[2m   Use a production WSGI server instead.\u001b[0m\n",
      " * Debug mode: on\n",
      "Traceback (most recent call last):\n",
      "  File \"goodnews.py\", line 126, in <module>\n",
      "    app.run(debug=True,threaded=True,port=5006,host='0.0.0.0')\n",
      "  File \"/home/contact_sunnysunny/.local/lib/python3.6/site-packages/flask/app.py\", line 990, in run\n",
      "    run_simple(host, port, self, **options)\n",
      "  File \"/home/contact_sunnysunny/.local/lib/python3.6/site-packages/werkzeug/serving.py\", line 988, in run_simple\n",
      "    s.bind(server_address)\n",
      "OSError: [Errno 98] Address already in use\n"
     ]
    }
   ],
   "source": [
    "!python3 goodnews.py"
   ]
  },
  {
   "cell_type": "code",
   "execution_count": 1,
   "metadata": {},
   "outputs": [
    {
     "name": "stdout",
     "output_type": "stream",
     "text": [
      "confirm.csv  dl0\t  Untitled.ipynb    virus_traker_main.ipynb\r\n",
      "death.csv    recover.csv  virus_tracker.py\r\n"
     ]
    }
   ],
   "source": [
    "!ls"
   ]
  },
  {
   "cell_type": "code",
   "execution_count": null,
   "metadata": {},
   "outputs": [],
   "source": [
    "!ls"
   ]
  },
  {
   "cell_type": "code",
   "execution_count": 10,
   "metadata": {},
   "outputs": [
    {
     "name": "stdout",
     "output_type": "stream",
     "text": [
      "root       771     1  0 Mar11 ?        00:00:32 /usr/bin/python3 /usr/bin/google_network_daemon\r\n",
      "root       772     1  0 Mar11 ?        00:00:42 /usr/bin/python3 /usr/bin/google_accounts_daemon\r\n",
      "root       776     1  0 Mar11 ?        00:00:17 /usr/bin/python3 /usr/bin/google_clock_skew_daemon\r\n",
      "contact+  1990     1  0 Mar11 ?        00:00:00 python3 virus_tracker.py\r\n",
      "contact+  1992  1990  0 Mar11 ?        01:19:14 /usr/local/bin/python3 /home/contact_sunnysunny/virus_tracker/virus_tracker.py\r\n",
      "contact+  2081     1  2 Mar11 ?        03:12:17 python3 get_data.py\r\n",
      "contact+  3215     1  0 Mar12 ?        00:00:00 python3 interactive_vocabs.py\r\n",
      "contact+  3217  3215  1 Mar12 ?        01:42:46 /usr/local/bin/python3 /home/contact_sunnysunny/interactive_vocabs/interactive_vocabs.py\r\n",
      "contact+ 29052 29046  0 12:50 pts/0    00:00:01 python3 -m notebook --ip=0.0.0.0\r\n",
      "contact+ 29668 29052  1 13:40 ?        00:00:02 /usr/local/bin/python3 -m ipykernel_launcher -f /home/contact_sunnysunny/.local/share/jupyter/runtime/kernel-9de02aee-4928-43fd-8467-f7e64d0cfe91.json\r\n",
      "contact+ 29730 29668  0 13:43 pts/1    00:00:00 /bin/sh -c ps -ef | grep python\r\n",
      "contact+ 29732 29730  0 13:43 pts/1    00:00:00 grep python\r\n"
     ]
    }
   ],
   "source": [
    "!ps -ef | grep python"
   ]
  },
  {
   "cell_type": "code",
   "execution_count": 8,
   "metadata": {},
   "outputs": [],
   "source": [
    "!sudo kill -9 29687"
   ]
  },
  {
   "cell_type": "code",
   "execution_count": 9,
   "metadata": {},
   "outputs": [
    {
     "name": "stdout",
     "output_type": "stream",
     "text": [
      "\u001b[?1h\u001b=\u001b[H\u001b[2J\u001b[mtop - 13:43:22 up 6 days, 13:59,  1 user,  load average: 0.18, 0.12, 0.10\u001b[m\u001b[m\u001b[m\u001b[m\u001b[K\n",
      "Tasks:\u001b[m\u001b[m\u001b[1m  89 \u001b[m\u001b[mtotal,\u001b[m\u001b[m\u001b[1m   1 \u001b[m\u001b[mrunning,\u001b[m\u001b[m\u001b[1m  88 \u001b[m\u001b[msleeping,\u001b[m\u001b[m\u001b[1m   0 \u001b[m\u001b[mstopped,\u001b[m\u001b[m\u001b[1m   0 \u001b[m\u001b[mzombie\u001b[m\u001b[m\u001b[m\u001b[m\u001b[K\n",
      "%Cpu(s):\u001b[m\u001b[m\u001b[1m  3.2 \u001b[m\u001b[mus,\u001b[m\u001b[m\u001b[1m  1.0 \u001b[m\u001b[msy,\u001b[m\u001b[m\u001b[1m  0.0 \u001b[m\u001b[mni,\u001b[m\u001b[m\u001b[1m 95.8 \u001b[m\u001b[mid,\u001b[m\u001b[m\u001b[1m  0.0 \u001b[m\u001b[mwa,\u001b[m\u001b[m\u001b[1m  0.0 \u001b[m\u001b[mhi,\u001b[m\u001b[m\u001b[1m  0.0 \u001b[m\u001b[msi,\u001b[m\u001b[m\u001b[1m  0.0 \u001b[m\u001b[mst\u001b[m\u001b[m\u001b[m\u001b[m\u001b[K\n",
      "KiB Mem :\u001b[m\u001b[m\u001b[1m   606688 \u001b[m\u001b[mtotal,\u001b[m\u001b[m\u001b[1m    93892 \u001b[m\u001b[mfree,\u001b[m\u001b[m\u001b[1m   379272 \u001b[m\u001b[mused,\u001b[m\u001b[m\u001b[1m   133524 \u001b[m\u001b[mbuff/cache\u001b[m\u001b[m\u001b[m\u001b[m\u001b[K\n",
      "KiB Swap:\u001b[m\u001b[m\u001b[1m   649996 \u001b[m\u001b[mtotal,\u001b[m\u001b[m\u001b[1m    87804 \u001b[m\u001b[mfree,\u001b[m\u001b[m\u001b[1m   562192 \u001b[m\u001b[mused.\u001b[m\u001b[m\u001b[1m    96644 \u001b[m\u001b[mavail Mem \u001b[m\u001b[m\u001b[m\u001b[m\u001b[K\n",
      "\u001b[K\n",
      "\u001b[7m  PID USER      PR  NI    VIRT    RES    SHR S %CPU %MEM     TIME+ COMMAND      \u001b[m\u001b[m\u001b[K\n",
      "\u001b[m 1992 contact+  20   0  820440  12412   1656 S  6.7  2.0  79:14.03 python3      \u001b[m\u001b[m\u001b[K\n",
      "\u001b[m29668 contact+  20   0  647260  47004   9696 S  6.7  7.7   0:02.10 python3      \u001b[m\u001b[m\u001b[K\n",
      "\u001b[m    1 root      20   0   56948   2124   1168 S  0.0  0.4   0:06.26 systemd      \u001b[m\u001b[m\u001b[K\n",
      "\u001b[m    2 root      20   0       0      0      0 S  0.0  0.0   0:00.00 kthreadd     \u001b[m\u001b[m\u001b[K\n",
      "\u001b[m    3 root      20   0       0      0      0 S  0.0  0.0   0:01.40 ksoftirqd/0  \u001b[m\u001b[m\u001b[K\n",
      "\u001b[m    5 root       0 -20       0      0      0 S  0.0  0.0   0:00.00 kworker/0:0H \u001b[m\u001b[m\u001b[K\n",
      "\u001b[m    6 root      20   0       0      0      0 S  0.0  0.0   0:03.25 kworker/u2:0 \u001b[m\u001b[m\u001b[K\n",
      "\u001b[m    7 root      20   0       0      0      0 S  0.0  0.0   0:05.16 rcu_sched    \u001b[m\u001b[m\u001b[K\n",
      "\u001b[m    8 root      20   0       0      0      0 S  0.0  0.0   0:00.00 rcu_bh       \u001b[m\u001b[m\u001b[K\n",
      "\u001b[m    9 root      rt   0       0      0      0 S  0.0  0.0   0:00.00 migration/0  \u001b[m\u001b[m\u001b[K\n",
      "\u001b[m   10 root       0 -20       0      0      0 S  0.0  0.0   0:00.00 lru-add-dra+ \u001b[m\u001b[m\u001b[K\n",
      "\u001b[m   11 root      rt   0       0      0      0 S  0.0  0.0   0:01.08 watchdog/0   \u001b[m\u001b[m\u001b[K\n",
      "\u001b[m   12 root      20   0       0      0      0 S  0.0  0.0   0:00.00 cpuhp/0      \u001b[m\u001b[m\u001b[K\n",
      "\u001b[m   13 root      20   0       0      0      0 S  0.0  0.0   0:00.00 kdevtmpfs    \u001b[m\u001b[m\u001b[K\n",
      "\u001b[m   14 root       0 -20       0      0      0 S  0.0  0.0   0:00.00 netns        \u001b[m\u001b[m\u001b[K\n",
      "\u001b[m   15 root      20   0       0      0      0 S  0.0  0.0   0:00.46 khungtaskd   \u001b[m\u001b[m\u001b[K\n",
      "\u001b[m   16 root      20   0       0      0      0 S  0.0  0.0   0:00.00 oom_reaper   \u001b[m\u001b[m\u001b[K\u001b[H\u001b[mtop - 13:43:25 up 6 days, 13:59,  1 user,  load average: 0.18, 0.12, 0.10\u001b[m\u001b[m\u001b[m\u001b[m\u001b[K\n",
      "Tasks:\u001b[m\u001b[m\u001b[1m  89 \u001b[m\u001b[mtotal,\u001b[m\u001b[m\u001b[1m   1 \u001b[m\u001b[mrunning,\u001b[m\u001b[m\u001b[1m  88 \u001b[m\u001b[msleeping,\u001b[m\u001b[m\u001b[1m   0 \u001b[m\u001b[mstopped,\u001b[m\u001b[m\u001b[1m   0 \u001b[m\u001b[mzombie\u001b[m\u001b[m\u001b[m\u001b[m\u001b[K\n",
      "%Cpu(s):\u001b[m\u001b[m\u001b[1m  2.7 \u001b[m\u001b[mus,\u001b[m\u001b[m\u001b[1m  0.7 \u001b[m\u001b[msy,\u001b[m\u001b[m\u001b[1m  0.0 \u001b[m\u001b[mni,\u001b[m\u001b[m\u001b[1m 96.6 \u001b[m\u001b[mid,\u001b[m\u001b[m\u001b[1m  0.0 \u001b[m\u001b[mwa,\u001b[m\u001b[m\u001b[1m  0.0 \u001b[m\u001b[mhi,\u001b[m\u001b[m\u001b[1m  0.0 \u001b[m\u001b[msi,\u001b[m\u001b[m\u001b[1m  0.0 \u001b[m\u001b[mst\u001b[m\u001b[m\u001b[m\u001b[m\u001b[K\n",
      "KiB Mem :\u001b[m\u001b[m\u001b[1m   606688 \u001b[m\u001b[mtotal,\u001b[m\u001b[m\u001b[1m    93896 \u001b[m\u001b[mfree,\u001b[m\u001b[m\u001b[1m   379280 \u001b[m\u001b[mused,\u001b[m\u001b[m\u001b[1m   133512 \u001b[m\u001b[mbuff/cache\u001b[m\u001b[m\u001b[m\u001b[m\u001b[K\n",
      "KiB Swap:\u001b[m\u001b[m\u001b[1m   649996 \u001b[m\u001b[mtotal,\u001b[m\u001b[m\u001b[1m    87804 \u001b[m\u001b[mfree,\u001b[m\u001b[m\u001b[1m   562192 \u001b[m\u001b[mused.\u001b[m\u001b[m\u001b[1m    96632 \u001b[m\u001b[mavail Mem \u001b[m\u001b[m\u001b[m\u001b[m\u001b[K\n",
      "\u001b[K\n",
      "\n",
      "\u001b[m29668 contact+  20   0  647260  47004   9696 S  2.0  7.7   0:02.16 python3      \u001b[m\u001b[m\u001b[K\n",
      "\u001b[m 3217 contact+  20   0  467244  18224   3212 S  1.3  3.0 102:46.08 python3      \u001b[m\u001b[m\u001b[K\n",
      "\u001b[m 1992 contact+  20   0  820440  12412   1656 S  1.0  2.0  79:14.06 python3      \u001b[m\u001b[m\u001b[K\n",
      "\u001b[m 1308 mysql     20   0 1268928 116880      0 S  0.3 19.3  38:41.49 mysqld.bin   \u001b[m\u001b[m\u001b[K\n",
      "\u001b[m\u001b[1m29729 contact+  20   0   42680   3432   2912 R  0.3  0.6   0:00.01 top          \u001b[m\u001b[m\u001b[K\n",
      "\u001b[m    1 root      20   0   56948   2124   1168 S  0.0  0.4   0:06.26 systemd      \u001b[m\u001b[m\u001b[K\n",
      "\u001b[m    2 root      20   0       0      0      0 S  0.0  0.0   0:00.00 kthreadd     \u001b[m\u001b[m\u001b[K\n",
      "\u001b[m    3 root      20   0       0      0      0 S  0.0  0.0   0:01.40 ksoftirqd/0  \u001b[m\u001b[m\u001b[K\n",
      "\u001b[m    5 root       0 -20       0      0      0 S  0.0  0.0   0:00.00 kworker/0:0H \u001b[m\u001b[m\u001b[K\n",
      "\u001b[m    6 root      20   0       0      0      0 S  0.0  0.0   0:03.25 kworker/u2:0 \u001b[m\u001b[m\u001b[K\n",
      "\u001b[m    7 root      20   0       0      0      0 S  0.0  0.0   0:05.16 rcu_sched    \u001b[m\u001b[m\u001b[K\n",
      "\u001b[m    8 root      20   0       0      0      0 S  0.0  0.0   0:00.00 rcu_bh       \u001b[m\u001b[m\u001b[K\n",
      "\u001b[m    9 root      rt   0       0      0      0 S  0.0  0.0   0:00.00 migration/0  \u001b[m\u001b[m\u001b[K\n",
      "\u001b[m   10 root       0 -20       0      0      0 S  0.0  0.0   0:00.00 lru-add-dra+ \u001b[m\u001b[m\u001b[K\n",
      "\u001b[m   11 root      rt   0       0      0      0 S  0.0  0.0   0:01.08 watchdog/0   \u001b[m\u001b[m\u001b[K\n",
      "\u001b[m   12 root      20   0       0      0      0 S  0.0  0.0   0:00.00 cpuhp/0      \u001b[m\u001b[m\u001b[K\n",
      "\u001b[m   13 root      20   0       0      0      0 S  0.0  0.0   0:00.00 kdevtmpfs    \u001b[m\u001b[m\u001b[K\u001b[?1l\u001b>\u001b[25;1H\n",
      "\u001b[K"
     ]
    }
   ],
   "source": [
    "!top"
   ]
  },
  {
   "cell_type": "code",
   "execution_count": null,
   "metadata": {},
   "outputs": [],
   "source": []
  }
 ],
 "metadata": {
  "kernelspec": {
   "display_name": "Python 3",
   "language": "python",
   "name": "python3"
  },
  "language_info": {
   "codemirror_mode": {
    "name": "ipython",
    "version": 3
   },
   "file_extension": ".py",
   "mimetype": "text/x-python",
   "name": "python",
   "nbconvert_exporter": "python",
   "pygments_lexer": "ipython3",
   "version": "3.6.10"
  }
 },
 "nbformat": 4,
 "nbformat_minor": 4
}

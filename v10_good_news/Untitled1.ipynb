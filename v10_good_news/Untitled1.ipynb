{
 "cells": [
  {
   "cell_type": "code",
   "execution_count": 1,
   "metadata": {},
   "outputs": [
    {
     "name": "stdout",
     "output_type": "stream",
     "text": [
      "config\t\t      multi_news\t   review_config\r\n",
      "df_goodnews.csv       my_data_adapter.py   rungoodnews.sh\r\n",
      "features\t      mydict.txt\t   Untitled1.ipynb\r\n",
      "good_news_main.ipynb  nohup.out\t\t   Untitled.ipynb\r\n",
      "goodnews.py\t      notifications.py\t   user_activities.csv\r\n",
      "goodnews.py.save      notifications.txt    user_activities.py\r\n",
      "interaction.py\t      playground.ipynb\t   user_database.csv\r\n",
      "intro\t\t      __pycache__\t   web\r\n",
      "jsconfig\t      python3_goodnews.sh\r\n",
      "lspython.sh\t      real_config\r\n"
     ]
    }
   ],
   "source": [
    "!ls"
   ]
  },
  {
   "cell_type": "code",
   "execution_count": 6,
   "metadata": {},
   "outputs": [],
   "source": [
    "import json\n",
    "def get_config():\n",
    "    with open('jsconfig/config_en.json') as json_file:\n",
    "        data = json.load(json_file)\n",
    "        return data"
   ]
  },
  {
   "cell_type": "code",
   "execution_count": 7,
   "metadata": {},
   "outputs": [
    {
     "data": {
      "text/plain": [
       "{'config': {'native_ads': 1,\n",
       "  'native_ads_freq': 3,\n",
       "  'inter_ads': 0,\n",
       "  'inter_ads_freq': 1000,\n",
       "  'content_locked_percent': 20,\n",
       "  'payment_delay': 30,\n",
       "  'payment_time': 1,\n",
       "  'noti_delay': 10,\n",
       "  'noti_time': 1,\n",
       "  'btn_share': 1,\n",
       "  'btn_share_screenshoot': 1,\n",
       "  'btn_share_webview': 1,\n",
       "  'reaction_layout': 1,\n",
       "  'lock_pro': 1,\n",
       "  'rate_app': 1,\n",
       "  'dark_mode': 1,\n",
       "  'update_every_x_hour': 1},\n",
       " 'features': {'price': '60usd_1year_sub',\n",
       "  'payment_show': 'on',\n",
       "  'tv1': 'Ads Free',\n",
       "  'tv2': 'Smart Filter',\n",
       "  'tv3': 'Dark Mode',\n",
       "  'tv4': 'Daily News Update',\n",
       "  'tv5': 'First to try new features and more',\n",
       "  'tv6': 'Free trial for 3 days',\n",
       "  'tv7': 'Then after 33.99 usd/year.',\n",
       "  'btnFreeTrial': 'Continue',\n",
       "  'btnClosePayment_delay': 0},\n",
       " 'intro': {'p0tv1': 'Too much bad news in the world',\n",
       "  'p0tv2': 'Filter them out with Smart Filter',\n",
       "  'p1tv1': 'Dark Mode',\n",
       "  'p1tv2': 'Enjoy Reading At Night',\n",
       "  'p2tv1': 'Control what you hear',\n",
       "  'p2tv2': 'Update news daily',\n",
       "  'p3tv1': 'Ads Free',\n",
       "  'p3tv2': \"We don't show ads\",\n",
       "  'img0': 'http://images.pexels.com/photos/927451/pexels-photo-927451.jpeg?auto=compress&cs=tinysrgb&dpr=1&w=500',\n",
       "  'img1': 'http://images.pexels.com/photos/546819/pexels-photo-546819.jpeg?auto=compress&cs=tinysrgb&dpr=1&w=500',\n",
       "  'img2': 'http://images.pexels.com/photos/920382/pexels-photo-920382.jpeg?auto=compress&cs=tinysrgb&dpr=1&w=500',\n",
       "  'img3': 'http://images.pexels.com/photos/1569076/pexels-photo-1569076.jpeg?auto=compress&cs=tinysrgb&dpr=1&w=500'}}"
      ]
     },
     "execution_count": 7,
     "metadata": {},
     "output_type": "execute_result"
    }
   ],
   "source": [
    "get_config()"
   ]
  },
  {
   "cell_type": "code",
   "execution_count": 23,
   "metadata": {},
   "outputs": [
    {
     "name": "stdout",
     "output_type": "stream",
     "text": [
      "native_ads 1 <class 'int'>\n",
      "native_ads_freq 3 <class 'int'>\n",
      "inter_ads 0 <class 'int'>\n",
      "inter_ads_freq 1000 <class 'int'>\n",
      "content_locked_percent 20 <class 'int'>\n",
      "payment_delay 30 <class 'int'>\n",
      "payment_time 1 <class 'int'>\n",
      "noti_delay 10 <class 'int'>\n",
      "noti_time 1 <class 'int'>\n",
      "btn_share 1 <class 'int'>\n",
      "btn_share_screenshoot 1 <class 'int'>\n",
      "btn_share_webview 1 <class 'int'>\n",
      "reaction_layout 1 <class 'int'>\n",
      "lock_pro 1 <class 'int'>\n",
      "rate_app 1 <class 'int'>\n",
      "dark_mode 1 <class 'int'>\n",
      "update_every_x_hour 1 <class 'int'>\n",
      "price 60usd_1year_sub <class 'str'>\n",
      "payment_show on <class 'str'>\n",
      "tv1 Ads Free <class 'str'>\n",
      "tv2 Smart Filter <class 'str'>\n",
      "tv3 Dark Mode <class 'str'>\n",
      "tv4 Daily News Update <class 'str'>\n",
      "tv5 First to try new features and more <class 'str'>\n",
      "tv6 Free trial for 3 days <class 'str'>\n",
      "tv7 Then after 33.99 usd/year. <class 'str'>\n",
      "btnFreeTrial Continue <class 'str'>\n",
      "btnClosePayment_delay 0 <class 'int'>\n",
      "p0tv1 Too much bad news in the world <class 'str'>\n",
      "p0tv2 Filter them out with Smart Filter <class 'str'>\n",
      "p1tv1 Dark Mode <class 'str'>\n",
      "p1tv2 Enjoy Reading At Night <class 'str'>\n",
      "p2tv1 Control what you hear <class 'str'>\n",
      "p2tv2 Update news daily <class 'str'>\n",
      "p3tv1 Ads Free <class 'str'>\n",
      "p3tv2 We don't show ads <class 'str'>\n",
      "img0 http://images.pexels.com/photos/927451/pexels-photo-927451.jpeg?auto=compress&cs=tinysrgb&dpr=1&w=500 <class 'str'>\n",
      "img1 http://images.pexels.com/photos/546819/pexels-photo-546819.jpeg?auto=compress&cs=tinysrgb&dpr=1&w=500 <class 'str'>\n",
      "img2 http://images.pexels.com/photos/920382/pexels-photo-920382.jpeg?auto=compress&cs=tinysrgb&dpr=1&w=500 <class 'str'>\n",
      "img3 http://images.pexels.com/photos/1569076/pexels-photo-1569076.jpeg?auto=compress&cs=tinysrgb&dpr=1&w=500 <class 'str'>\n",
      "{'config': {'native_ads': 1, 'native_ads_freq': 3, 'inter_ads': 0, 'inter_ads_freq': 1000, 'content_locked_percent': 20, 'payment_delay': 30, 'payment_time': 1, 'noti_delay': 10, 'noti_time': 1, 'btn_share': 1, 'btn_share_screenshoot': 1, 'btn_share_webview': 1, 'reaction_layout': 1, 'lock_pro': 1, 'rate_app': 1, 'dark_mode': 1, 'update_every_x_hour': 1}, 'features': {'price': '60usd_1year_sub', 'payment_show': 'on', 'tv1': 'Ads Free', 'tv2': 'Smart Filter', 'tv3': 'Dark Mode', 'tv4': 'Daily News Update', 'tv5': 'First to try new features and more', 'tv6': 'Free trial for 3 days', 'tv7': 'Then after 33.99 usd/year.', 'btnFreeTrial': 'Continue', 'btnClosePayment_delay': 0}, 'intro': {'p0tv1': 'Too much bad news in the world', 'p0tv2': 'Filter them out with Smart Filter', 'p1tv1': 'Dark Mode', 'p1tv2': 'Enjoy Reading At Night', 'p2tv1': 'Control what you hear', 'p2tv2': 'Update news daily', 'p3tv1': 'Ads Free', 'p3tv2': \"We don't show ads\", 'img0': 'http://images.pexels.com/photos/927451/pexels-photo-927451.jpeg?auto=compress&cs=tinysrgb&dpr=1&w=500', 'img1': 'http://images.pexels.com/photos/546819/pexels-photo-546819.jpeg?auto=compress&cs=tinysrgb&dpr=1&w=500', 'img2': 'http://images.pexels.com/photos/920382/pexels-photo-920382.jpeg?auto=compress&cs=tinysrgb&dpr=1&w=500', 'img3': 'http://images.pexels.com/photos/1569076/pexels-photo-1569076.jpeg?auto=compress&cs=tinysrgb&dpr=1&w=500'}}\n"
     ]
    }
   ],
   "source": [
    "c = get_config()\n",
    "keys=list(c.keys())\n",
    "sc = {}\n",
    "for key in keys:\n",
    "    keys1 = list(c[key].keys())\n",
    "    sc[key] = {}\n",
    "    for key1 in keys1:\n",
    "        print(key1,c[key][key1], type(c[key][key1]))\n",
    "        sc[key][key1] = c[key][key1]\n",
    "print(sc)"
   ]
  },
  {
   "cell_type": "code",
   "execution_count": null,
   "metadata": {},
   "outputs": [],
   "source": []
  }
 ],
 "metadata": {
  "kernelspec": {
   "display_name": "Python 3",
   "language": "python",
   "name": "python3"
  },
  "language_info": {
   "codemirror_mode": {
    "name": "ipython",
    "version": 3
   },
   "file_extension": ".py",
   "mimetype": "text/x-python",
   "name": "python",
   "nbconvert_exporter": "python",
   "pygments_lexer": "ipython3",
   "version": "3.6.9"
  }
 },
 "nbformat": 4,
 "nbformat_minor": 4
}
